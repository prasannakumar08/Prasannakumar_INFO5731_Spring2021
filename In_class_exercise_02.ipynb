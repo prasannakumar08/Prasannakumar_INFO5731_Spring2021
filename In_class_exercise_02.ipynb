{
  "nbformat": 4,
  "nbformat_minor": 0,
  "metadata": {
    "colab": {
      "name": "In_class_exercise_02.ipynb",
      "provenance": [],
      "collapsed_sections": [],
      "include_colab_link": true
    },
    "kernelspec": {
      "display_name": "Python 3",
      "language": "python",
      "name": "python3"
    },
    "language_info": {
      "codemirror_mode": {
        "name": "ipython",
        "version": 3
      },
      "file_extension": ".py",
      "mimetype": "text/x-python",
      "name": "python",
      "nbconvert_exporter": "python",
      "pygments_lexer": "ipython3",
      "version": "3.7.4"
    }
  },
  "cells": [
    {
      "cell_type": "markdown",
      "metadata": {
        "id": "view-in-github",
        "colab_type": "text"
      },
      "source": [
        "<a href=\"https://colab.research.google.com/github/prasannakumar08/Prasannakumar_INFO5731_Spring2021/blob/main/In_class_exercise_02.ipynb\" target=\"_parent\"><img src=\"https://colab.research.google.com/assets/colab-badge.svg\" alt=\"Open In Colab\"/></a>"
      ]
    },
    {
      "cell_type": "markdown",
      "metadata": {
        "id": "oo5bsEh2eeWi"
      },
      "source": [
        "# **The second In-class-exercise (1/27/2021, 20 points in total)**\n"
      ]
    },
    {
      "cell_type": "markdown",
      "metadata": {
        "id": "2sPQ58dIeqgp"
      },
      "source": [
        "(1) Write a Python program to find the duplicate elements in a given array of integers. Return -1 If there are no such elements. (4 points)"
      ]
    },
    {
      "cell_type": "code",
      "metadata": {
        "colab": {
          "base_uri": "https://localhost:8080/"
        },
        "id": "mnrvKMFTeoJR",
        "outputId": "7eb5c618-be9c-4b03-ab94-bcfb50ca8046"
      },
      "source": [
        "from collections import Counter \n",
        "def Checkforduplicates(arr) :\n",
        "    givset=set(arr)\n",
        "    if(len(arr)==len(givset)):\n",
        "        return -1\n",
        "    else:\n",
        "        dic=Counter(arr)           #using dictionary to find frequency\n",
        "        duplicate=[];              #array for duplicates\n",
        "        for i in dic:\n",
        "            if(dic[i]==2):         #checking for duplicates\n",
        "                duplicate.append(i)\n",
        "        return duplicate\n",
        "\n",
        "def result(arr):\n",
        "     \n",
        "    a=Checkforduplicates(arr)\n",
        "    if(a==-1):\n",
        "        print(\"There are no duplicates:\",a)\n",
        "    else:    \n",
        "        print(\"The duplicates are:\",a)\n",
        "arr = [1,3,4,4,5,5,6,7,8]\n",
        "arr2=[1,2,3,4,5]\n",
        "result(arr)\n",
        "result(arr2)"
      ],
      "execution_count": null,
      "outputs": [
        {
          "output_type": "stream",
          "text": [
            "The duplicates are: [4, 5]\n",
            "There are no duplicates -1\n"
          ],
          "name": "stdout"
        }
      ]
    },
    {
      "cell_type": "markdown",
      "metadata": {
        "id": "YYrH6n6IhZoQ"
      },
      "source": [
        "(2) Write a Python program to select all the Sundays of a specified year. (4 points)\n",
        "\n"
      ]
    },
    {
      "cell_type": "code",
      "metadata": {
        "colab": {
          "base_uri": "https://localhost:8080/"
        },
        "id": "OSfPLd23eLpX",
        "outputId": "a82acdbd-004e-42f1-bf4f-fe3e76aa040a"
      },
      "source": [
        "# write your answer here\n",
        "\n",
        "\n",
        "from datetime import date\n",
        "import calendar\n",
        "Year= 2019\n",
        "A=calendar.TextCalendar(calendar.SUNDAY)\n",
        "for b in range(1,13):\n",
        "    for k in A.itermonthdays(Year,b):\n",
        "        if k!=0:\n",
        "            day=date(Year,b,k)\n",
        "            if day.weekday()==6:\n",
        "                print(\"%s,%d-%d-%d\" % (calendar.day_name[6] ,k,b,Year))"
      ],
      "execution_count": null,
      "outputs": [
        {
          "output_type": "stream",
          "text": [
            "Sunday,6-1-2019\n",
            "Sunday,13-1-2019\n",
            "Sunday,20-1-2019\n",
            "Sunday,27-1-2019\n",
            "Sunday,3-2-2019\n",
            "Sunday,10-2-2019\n",
            "Sunday,17-2-2019\n",
            "Sunday,24-2-2019\n",
            "Sunday,3-3-2019\n",
            "Sunday,10-3-2019\n",
            "Sunday,17-3-2019\n",
            "Sunday,24-3-2019\n",
            "Sunday,31-3-2019\n",
            "Sunday,7-4-2019\n",
            "Sunday,14-4-2019\n",
            "Sunday,21-4-2019\n",
            "Sunday,28-4-2019\n",
            "Sunday,5-5-2019\n",
            "Sunday,12-5-2019\n",
            "Sunday,19-5-2019\n",
            "Sunday,26-5-2019\n",
            "Sunday,2-6-2019\n",
            "Sunday,9-6-2019\n",
            "Sunday,16-6-2019\n",
            "Sunday,23-6-2019\n",
            "Sunday,30-6-2019\n",
            "Sunday,7-7-2019\n",
            "Sunday,14-7-2019\n",
            "Sunday,21-7-2019\n",
            "Sunday,28-7-2019\n",
            "Sunday,4-8-2019\n",
            "Sunday,11-8-2019\n",
            "Sunday,18-8-2019\n",
            "Sunday,25-8-2019\n",
            "Sunday,1-9-2019\n",
            "Sunday,8-9-2019\n",
            "Sunday,15-9-2019\n",
            "Sunday,22-9-2019\n",
            "Sunday,29-9-2019\n",
            "Sunday,6-10-2019\n",
            "Sunday,13-10-2019\n",
            "Sunday,20-10-2019\n",
            "Sunday,27-10-2019\n",
            "Sunday,3-11-2019\n",
            "Sunday,10-11-2019\n",
            "Sunday,17-11-2019\n",
            "Sunday,24-11-2019\n",
            "Sunday,1-12-2019\n",
            "Sunday,8-12-2019\n",
            "Sunday,15-12-2019\n",
            "Sunday,22-12-2019\n",
            "Sunday,29-12-2019\n"
          ],
          "name": "stdout"
        }
      ]
    },
    {
      "cell_type": "markdown",
      "metadata": {
        "id": "UIpziZ6Sjie-"
      },
      "source": [
        "(3) Python files reading and writing. Download the “[exercise_02_data _collection.zip](https://github.com/unt-iialab/info5731_spring2021/blob/main/class_exercises/exercise_02_data_collection.zip)” to your local and un-zip it.\n",
        "\n",
        "*   Write a program to read all the txt files and save the sentences in all the files into one csv file with two columns, the first column is sentence id (txt file name+sentence line number), the second column is the sentence text content. (4 points)\n",
        "*   Remove all the punctuations from the sentences, save the processed sentences into a new column in the same csv file. (4 points)\n",
        "*   Ask the user to enter a word, return all the sentences that include this word, three kinds of information should be returned: sentence id, sentence text content, the count that user input word appear in the sentence. (4 points)\n",
        "\n"
      ]
    },
    {
      "cell_type": "code",
      "metadata": {
        "id": "f3CUsrWOj1Xy"
      },
      "source": [
        "# write your answer here\n",
        "\n",
        "import os\n",
        "import re\n",
        "new_list = []\n",
        "col_name = []\n",
        "for root, dirs, files in os.walk('/content/Data/'):\n",
        "  files.sort(key=lambda x: int(re.findall(\"\\d+\", x)[0]))\n",
        "  for file in files:\n",
        "    if file.endswith('.txt'):\n",
        "      with open(os.path.join(root, file), 'r') as f:\n",
        "        text = f.read()\n",
        "        check_list = []\n",
        "        check_list.append(text)\n",
        "        new_lists = check_list[0]\n",
        "        new_lists = new_lists.split(\"\\n\")\n",
        "        for i in new_lists:\n",
        "          new_list.append(i)\n",
        "          col_name.append(file)\n",
        "\n",
        "df = pd.DataFrame({'col':new_list,'col_name':col_name})\n",
        "df = df[df['col']!='']\n",
        "df['col_count'] =df.groupby('col_name').cumcount()+1\n",
        "df['col_count'] = df['col_count'].astype(str)\n",
        "df['sentence id'] = df['col_name'] + ' -  ' +df['col_count']\n",
        "df = df[['sentence id','col']]\n",
        "df.columns = ['sentence id','sentence text content']       \n"
      ],
      "execution_count": 24,
      "outputs": []
    },
    {
      "cell_type": "code",
      "metadata": {
        "colab": {
          "base_uri": "https://localhost:8080/",
          "height": 419
        },
        "id": "p-Sv1tvdOP_n",
        "outputId": "9359658e-9793-4ebc-e514-daf09b94e329"
      },
      "source": [
        "df"
      ],
      "execution_count": 25,
      "outputs": [
        {
          "output_type": "execute_result",
          "data": {
            "text/html": [
              "<div>\n",
              "<style scoped>\n",
              "    .dataframe tbody tr th:only-of-type {\n",
              "        vertical-align: middle;\n",
              "    }\n",
              "\n",
              "    .dataframe tbody tr th {\n",
              "        vertical-align: top;\n",
              "    }\n",
              "\n",
              "    .dataframe thead th {\n",
              "        text-align: right;\n",
              "    }\n",
              "</style>\n",
              "<table border=\"1\" class=\"dataframe\">\n",
              "  <thead>\n",
              "    <tr style=\"text-align: right;\">\n",
              "      <th></th>\n",
              "      <th>sentence id</th>\n",
              "      <th>sentence text content</th>\n",
              "    </tr>\n",
              "  </thead>\n",
              "  <tbody>\n",
              "    <tr>\n",
              "      <th>0</th>\n",
              "      <td>ARTHROTEC.1.txt -  1</td>\n",
              "      <td>I feel a bit drowsy &amp; have a little blurred vi...</td>\n",
              "    </tr>\n",
              "    <tr>\n",
              "      <th>1</th>\n",
              "      <td>ARTHROTEC.1.txt -  2</td>\n",
              "      <td>I've been on Arthrotec 50 for over 10 years on...</td>\n",
              "    </tr>\n",
              "    <tr>\n",
              "      <th>2</th>\n",
              "      <td>ARTHROTEC.1.txt -  3</td>\n",
              "      <td>Due to my arthritis getting progressively wors...</td>\n",
              "    </tr>\n",
              "    <tr>\n",
              "      <th>3</th>\n",
              "      <td>ARTHROTEC.1.txt -  4</td>\n",
              "      <td>every day for the next month to see how I get ...</td>\n",
              "    </tr>\n",
              "    <tr>\n",
              "      <th>4</th>\n",
              "      <td>ARTHROTEC.1.txt -  5</td>\n",
              "      <td>So far its been very good, pains almost gone, ...</td>\n",
              "    </tr>\n",
              "    <tr>\n",
              "      <th>...</th>\n",
              "      <td>...</td>\n",
              "      <td>...</td>\n",
              "    </tr>\n",
              "    <tr>\n",
              "      <th>628</th>\n",
              "      <td>ARTHROTEC.100.txt -  4</td>\n",
              "      <td>canker sores in my mouth.</td>\n",
              "    </tr>\n",
              "    <tr>\n",
              "      <th>629</th>\n",
              "      <td>ARTHROTEC.100.txt -  5</td>\n",
              "      <td>headache.</td>\n",
              "    </tr>\n",
              "    <tr>\n",
              "      <th>630</th>\n",
              "      <td>ARTHROTEC.100.txt -  6</td>\n",
              "      <td>been off for 1 week still have bleeding.</td>\n",
              "    </tr>\n",
              "    <tr>\n",
              "      <th>631</th>\n",
              "      <td>ARTHROTEC.100.txt -  7</td>\n",
              "      <td>helped my pain alot .</td>\n",
              "    </tr>\n",
              "    <tr>\n",
              "      <th>632</th>\n",
              "      <td>ARTHROTEC.100.txt -  8</td>\n",
              "      <td>too scared to take this drug again.</td>\n",
              "    </tr>\n",
              "  </tbody>\n",
              "</table>\n",
              "<p>533 rows × 2 columns</p>\n",
              "</div>"
            ],
            "text/plain": [
              "                sentence id                              sentence text content\n",
              "0      ARTHROTEC.1.txt -  1  I feel a bit drowsy & have a little blurred vi...\n",
              "1      ARTHROTEC.1.txt -  2  I've been on Arthrotec 50 for over 10 years on...\n",
              "2      ARTHROTEC.1.txt -  3  Due to my arthritis getting progressively wors...\n",
              "3      ARTHROTEC.1.txt -  4  every day for the next month to see how I get ...\n",
              "4      ARTHROTEC.1.txt -  5  So far its been very good, pains almost gone, ...\n",
              "..                      ...                                                ...\n",
              "628  ARTHROTEC.100.txt -  4                          canker sores in my mouth.\n",
              "629  ARTHROTEC.100.txt -  5                                          headache.\n",
              "630  ARTHROTEC.100.txt -  6           been off for 1 week still have bleeding.\n",
              "631  ARTHROTEC.100.txt -  7                              helped my pain alot .\n",
              "632  ARTHROTEC.100.txt -  8                too scared to take this drug again.\n",
              "\n",
              "[533 rows x 2 columns]"
            ]
          },
          "metadata": {
            "tags": []
          },
          "execution_count": 25
        }
      ]
    },
    {
      "cell_type": "markdown",
      "metadata": {
        "id": "squz8YmWOqa0"
      },
      "source": [
        "Remove all the punctuations from the sentences, save the processed sentences into a new column in the same csv file"
      ]
    },
    {
      "cell_type": "code",
      "metadata": {
        "id": "qg9_UoRDO2uW"
      },
      "source": [
        "import string\r\n",
        "df['sentence text'] = df['sentence text content'].str.replace('[{}]'.format(string.punctuation), '')\r\n",
        "df = df[['sentence id','sentence text']]"
      ],
      "execution_count": 26,
      "outputs": []
    },
    {
      "cell_type": "code",
      "metadata": {
        "colab": {
          "base_uri": "https://localhost:8080/",
          "height": 419
        },
        "id": "i1tn562iO739",
        "outputId": "acc1664e-451c-49ba-afbb-8b0395ee1c6f"
      },
      "source": [
        "df"
      ],
      "execution_count": 27,
      "outputs": [
        {
          "output_type": "execute_result",
          "data": {
            "text/html": [
              "<div>\n",
              "<style scoped>\n",
              "    .dataframe tbody tr th:only-of-type {\n",
              "        vertical-align: middle;\n",
              "    }\n",
              "\n",
              "    .dataframe tbody tr th {\n",
              "        vertical-align: top;\n",
              "    }\n",
              "\n",
              "    .dataframe thead th {\n",
              "        text-align: right;\n",
              "    }\n",
              "</style>\n",
              "<table border=\"1\" class=\"dataframe\">\n",
              "  <thead>\n",
              "    <tr style=\"text-align: right;\">\n",
              "      <th></th>\n",
              "      <th>sentence id</th>\n",
              "      <th>sentence text</th>\n",
              "    </tr>\n",
              "  </thead>\n",
              "  <tbody>\n",
              "    <tr>\n",
              "      <th>0</th>\n",
              "      <td>ARTHROTEC.1.txt -  1</td>\n",
              "      <td>I feel a bit drowsy  have a little blurred vis...</td>\n",
              "    </tr>\n",
              "    <tr>\n",
              "      <th>1</th>\n",
              "      <td>ARTHROTEC.1.txt -  2</td>\n",
              "      <td>Ive been on Arthrotec 50 for over 10 years on ...</td>\n",
              "    </tr>\n",
              "    <tr>\n",
              "      <th>2</th>\n",
              "      <td>ARTHROTEC.1.txt -  3</td>\n",
              "      <td>Due to my arthritis getting progressively wors...</td>\n",
              "    </tr>\n",
              "    <tr>\n",
              "      <th>3</th>\n",
              "      <td>ARTHROTEC.1.txt -  4</td>\n",
              "      <td>every day for the next month to see how I get ...</td>\n",
              "    </tr>\n",
              "    <tr>\n",
              "      <th>4</th>\n",
              "      <td>ARTHROTEC.1.txt -  5</td>\n",
              "      <td>So far its been very good pains almost gone bu...</td>\n",
              "    </tr>\n",
              "    <tr>\n",
              "      <th>...</th>\n",
              "      <td>...</td>\n",
              "      <td>...</td>\n",
              "    </tr>\n",
              "    <tr>\n",
              "      <th>628</th>\n",
              "      <td>ARTHROTEC.100.txt -  4</td>\n",
              "      <td>canker sores in my mouth</td>\n",
              "    </tr>\n",
              "    <tr>\n",
              "      <th>629</th>\n",
              "      <td>ARTHROTEC.100.txt -  5</td>\n",
              "      <td>headache</td>\n",
              "    </tr>\n",
              "    <tr>\n",
              "      <th>630</th>\n",
              "      <td>ARTHROTEC.100.txt -  6</td>\n",
              "      <td>been off for 1 week still have bleeding</td>\n",
              "    </tr>\n",
              "    <tr>\n",
              "      <th>631</th>\n",
              "      <td>ARTHROTEC.100.txt -  7</td>\n",
              "      <td>helped my pain alot</td>\n",
              "    </tr>\n",
              "    <tr>\n",
              "      <th>632</th>\n",
              "      <td>ARTHROTEC.100.txt -  8</td>\n",
              "      <td>too scared to take this drug again</td>\n",
              "    </tr>\n",
              "  </tbody>\n",
              "</table>\n",
              "<p>533 rows × 2 columns</p>\n",
              "</div>"
            ],
            "text/plain": [
              "                sentence id                                      sentence text\n",
              "0      ARTHROTEC.1.txt -  1  I feel a bit drowsy  have a little blurred vis...\n",
              "1      ARTHROTEC.1.txt -  2  Ive been on Arthrotec 50 for over 10 years on ...\n",
              "2      ARTHROTEC.1.txt -  3  Due to my arthritis getting progressively wors...\n",
              "3      ARTHROTEC.1.txt -  4  every day for the next month to see how I get ...\n",
              "4      ARTHROTEC.1.txt -  5  So far its been very good pains almost gone bu...\n",
              "..                      ...                                                ...\n",
              "628  ARTHROTEC.100.txt -  4                           canker sores in my mouth\n",
              "629  ARTHROTEC.100.txt -  5                                           headache\n",
              "630  ARTHROTEC.100.txt -  6            been off for 1 week still have bleeding\n",
              "631  ARTHROTEC.100.txt -  7                               helped my pain alot \n",
              "632  ARTHROTEC.100.txt -  8                 too scared to take this drug again\n",
              "\n",
              "[533 rows x 2 columns]"
            ]
          },
          "metadata": {
            "tags": []
          },
          "execution_count": 27
        }
      ]
    },
    {
      "cell_type": "code",
      "metadata": {
        "id": "PP924SFoPHJ5"
      },
      "source": [
        ""
      ],
      "execution_count": null,
      "outputs": []
    },
    {
      "cell_type": "markdown",
      "metadata": {
        "id": "AHVOZDGWPHlI"
      },
      "source": [
        "Ask the user to enter a word, return all the sentences that include this word, three kinds of information should be returned: sentence id, sentence text content, the count that user input word appear in the sentence."
      ]
    },
    {
      "cell_type": "code",
      "metadata": {
        "colab": {
          "base_uri": "https://localhost:8080/",
          "height": 190
        },
        "id": "areIzAPrPQxk",
        "outputId": "8fdb467e-9f02-4cd2-af01-4d8b4344894c"
      },
      "source": [
        "#input\r\n",
        "word= (input(\"Enter your word to find : \"))\r\n",
        "df_final = df[df['sentence text'].str.contains(word)]\r\n",
        "df_final"
      ],
      "execution_count": 28,
      "outputs": [
        {
          "output_type": "stream",
          "text": [
            "Enter your word to find : scared\n"
          ],
          "name": "stdout"
        },
        {
          "output_type": "execute_result",
          "data": {
            "text/html": [
              "<div>\n",
              "<style scoped>\n",
              "    .dataframe tbody tr th:only-of-type {\n",
              "        vertical-align: middle;\n",
              "    }\n",
              "\n",
              "    .dataframe tbody tr th {\n",
              "        vertical-align: top;\n",
              "    }\n",
              "\n",
              "    .dataframe thead th {\n",
              "        text-align: right;\n",
              "    }\n",
              "</style>\n",
              "<table border=\"1\" class=\"dataframe\">\n",
              "  <thead>\n",
              "    <tr style=\"text-align: right;\">\n",
              "      <th></th>\n",
              "      <th>sentence id</th>\n",
              "      <th>sentence text</th>\n",
              "    </tr>\n",
              "  </thead>\n",
              "  <tbody>\n",
              "    <tr>\n",
              "      <th>185</th>\n",
              "      <td>ARTHROTEC.28.txt -  3</td>\n",
              "      <td>A general scared feeling and sitting very stil...</td>\n",
              "    </tr>\n",
              "    <tr>\n",
              "      <th>347</th>\n",
              "      <td>ARTHROTEC.52.txt -  5</td>\n",
              "      <td>Im scared to death</td>\n",
              "    </tr>\n",
              "    <tr>\n",
              "      <th>572</th>\n",
              "      <td>ARTHROTEC.90.txt -  3</td>\n",
              "      <td>This scared me because it was two weeks after ...</td>\n",
              "    </tr>\n",
              "    <tr>\n",
              "      <th>632</th>\n",
              "      <td>ARTHROTEC.100.txt -  8</td>\n",
              "      <td>too scared to take this drug again</td>\n",
              "    </tr>\n",
              "  </tbody>\n",
              "</table>\n",
              "</div>"
            ],
            "text/plain": [
              "                sentence id                                      sentence text\n",
              "185   ARTHROTEC.28.txt -  3  A general scared feeling and sitting very stil...\n",
              "347   ARTHROTEC.52.txt -  5                                 Im scared to death\n",
              "572   ARTHROTEC.90.txt -  3  This scared me because it was two weeks after ...\n",
              "632  ARTHROTEC.100.txt -  8                 too scared to take this drug again"
            ]
          },
          "metadata": {
            "tags": []
          },
          "execution_count": 28
        }
      ]
    },
    {
      "cell_type": "markdown",
      "metadata": {
        "id": "-12cqmJEpZOh"
      },
      "source": [
        "(4) Install packages nltk, numpy, scipy, pandas, and sklearn on Google Colab. Write a program to test whether they are installed successfully. (3 points for extra)"
      ]
    },
    {
      "cell_type": "code",
      "metadata": {
        "id": "f1pn1Zl2qK77",
        "colab": {
          "base_uri": "https://localhost:8080/"
        },
        "outputId": "fb237de4-b641-43b2-cf7b-eb100048b01e"
      },
      "source": [
        "# write your answer here\n",
        "\n",
        "\n",
        "try:\n",
        "    import pandas as pd\n",
        "    print('pandas installed - version is - '+pd.__version__)\n",
        "    import numpy as np\n",
        "    print('numpy installed - version is - '+np.version.version)\n",
        "    import scipy as sc\n",
        "    print('scipy installed - version is - '+sc.version.version)  \n",
        "    import nltk\n",
        "    print('nltk installed -  version is - '+nltk.__version__)\n",
        "    import sklearn\n",
        "    print('scikit-learn installed - version is '+sklearn.__version__)\n",
        "except:\n",
        "    print('Required Packages not installed')\n"
      ],
      "execution_count": 1,
      "outputs": [
        {
          "output_type": "stream",
          "text": [
            "pandas installed - version is - 1.1.5\n",
            "numpy installed - version is - 1.19.5\n",
            "scipy installed - version is - 1.4.1\n",
            "nltk installed -  version is - 3.2.5\n",
            "scikit-learn installed - version is 0.22.2.post1\n"
          ],
          "name": "stdout"
        }
      ]
    }
  ]
}