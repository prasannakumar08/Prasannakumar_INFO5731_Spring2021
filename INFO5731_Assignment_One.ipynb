{
  "nbformat": 4,
  "nbformat_minor": 0,
  "metadata": {
    "colab": {
      "name": "INFO5731_Assignment_One.ipynb",
      "provenance": [],
      "collapsed_sections": [],
      "include_colab_link": true
    },
    "kernelspec": {
      "display_name": "Python 3",
      "language": "python",
      "name": "python3"
    },
    "language_info": {
      "codemirror_mode": {
        "name": "ipython",
        "version": 3
      },
      "file_extension": ".py",
      "mimetype": "text/x-python",
      "name": "python",
      "nbconvert_exporter": "python",
      "pygments_lexer": "ipython3",
      "version": "3.7.4"
    }
  },
  "cells": [
    {
      "cell_type": "markdown",
      "metadata": {
        "id": "view-in-github",
        "colab_type": "text"
      },
      "source": [
        "<a href=\"https://colab.research.google.com/github/prasannakumar08/Prasannakumar_INFO5731_Spring2021/blob/main/INFO5731_Assignment_One.ipynb\" target=\"_parent\"><img src=\"https://colab.research.google.com/assets/colab-badge.svg\" alt=\"Open In Colab\"/></a>"
      ]
    },
    {
      "cell_type": "markdown",
      "metadata": {
        "id": "Ryk8D1Q4Wsrp"
      },
      "source": [
        "# **INFO5731 Assignment One**"
      ]
    },
    {
      "cell_type": "markdown",
      "metadata": {
        "id": "90_NR8c5XGWc"
      },
      "source": [
        "# Question 1\n",
        "\n",
        "(20 points). Write a Python program to generate 12 random numbers between 1 and 100. Sort the list of numbers in ascending order and print it out. Sort the list of numbers in descending order and print it out. Calculate the average for the group and print it out."
      ]
    },
    {
      "cell_type": "code",
      "metadata": {
        "colab": {
          "base_uri": "https://localhost:8080/"
        },
        "id": "5QX6bJjGWXY9",
        "outputId": "bf1e7696-d5c8-4c04-d670-be3d73ce4806"
      },
      "source": [
        "# Your code here\n",
        "from random import *\n",
        "from statistics import mean\n",
        "def gen():\n",
        "  num=[]\n",
        "  for i in range(0,12):\n",
        "    n=randint(1,100)\n",
        "    num.append(n)\n",
        "  print(\"The random list:\",num)\n",
        "  num.sort()\n",
        "  print(\"Sortedlist assensing order:\", num)\n",
        "  num.sort(reverse=True)\n",
        "  print(\"Sortedlist decending order:\", num)\n",
        "  avg= mean(num)\n",
        "  print(\"The average of the list is:\",avg)\n",
        "gen()"
      ],
      "execution_count": 4,
      "outputs": [
        {
          "output_type": "stream",
          "text": [
            "The random list: [2, 26, 26, 82, 16, 93, 55, 28, 95, 76, 24, 28]\n",
            "Sortedlist assensing order: [2, 16, 24, 26, 26, 28, 28, 55, 76, 82, 93, 95]\n",
            "Sortedlist decending order: [95, 93, 82, 76, 55, 28, 28, 26, 26, 24, 16, 2]\n",
            "The average of the list is: 45.916666666666664\n"
          ],
          "name": "stdout"
        }
      ]
    },
    {
      "cell_type": "markdown",
      "metadata": {
        "id": "1F_PZdH9Sh49"
      },
      "source": [
        "# Question 2\n",
        "(25 points). Write a program that will do the following string formatting tasks:\n",
        "\n",
        "(1) Ask the user to enter two sentences.\n",
        "\n",
        "(2) Make each sentence into a list. Each element in the list should correspond to a word in the sentence. For example, if the sentence is \"Alas! Am I alive? This is my first python program\", the program should print out ['Alas, '!', 'Am', 'I', 'alive, '?', 'This', 'is', 'my', 'first', 'python', 'program'].\n",
        "\n",
        "(3) Compare the two sentences. Print out a list of words that occur in both sentences.\n",
        "\n",
        "(4) Remove any punctuation from the sentence and print it back out. It should remove at least the following characters, but it can remove more: period(“.”), comma (“,”), semicolon (“;”), and colon (“:”)\n",
        "\n",
        "(5) Count the number of vowels in the sentences. Print out each vowel and the number of times it appears in the sentences, such as: a:2, e:1, i:0, etc"
      ]
    },
    {
      "cell_type": "code",
      "metadata": {
        "id": "Y0oOSlsOS0cq",
        "colab": {
          "base_uri": "https://localhost:8080/"
        },
        "outputId": "2546a5d1-1c67-4060-a13b-feea1f981ad8"
      },
      "source": [
        "# Your code here\n",
        "import string\n",
        "punct = set(string.punctuation)\n",
        "\n",
        "#question1\n",
        "first_input = str(input(\"Enter 1st sentences : \"))\n",
        "first = first_input.split(' ')\n",
        "second_input = str(input(\"Enter 2nd sentences : \"))\n",
        "second = second_input.split(' ')\n",
        "print('   ')\n",
        "\n",
        "#question2\n",
        "print('First sentence split into string')\n",
        "print(first)\n",
        "print('   ')\n",
        "print('Second sentence split into string')\n",
        "print(second)\n",
        "\n",
        "#question3\n",
        "print('   ')\n",
        "print('Common Elements in both lists:')\n",
        "common_elements = list(set(first).intersection(second))\n",
        "print(common_elements)\n",
        "\n",
        "#question4\n",
        "print('   ')\n",
        "print('First Sentence without punctuation')\n",
        "first_words_stripped = ''.join(x for x in first_input if x not in punct)\n",
        "print(first_words_stripped)\n",
        "print('   ')\n",
        "print('Second Sentence without punctuation')\n",
        "second_words_stripped = ''.join(x for x in second_input if x not in punct)\n",
        "print(second_words_stripped)\n",
        "\n",
        "\n",
        "#question5\n",
        "def Check_Vow(string, vowels): \n",
        "    count = {}.fromkeys(vowels, 0) \n",
        "    for character in string: \n",
        "        if character in count: \n",
        "            count[character] += 1    \n",
        "    return count \n",
        "       \n",
        "vowels = 'aeiou'\n",
        "first_input_vowels = Check_Vow(first_input, vowels)\n",
        "second_input_vowels = Check_Vow(second_input, vowels)\n",
        "print('   ')\n",
        "print('First Sentence vowels')\n",
        "print (Check_Vow(first_input, vowels)) \n",
        "print('   ')\n",
        "print('Second Sentence vowels')\n",
        "print (Check_Vow(second_input, vowels))\n",
        "\n",
        "print('   ')\n",
        "print('Both Sentence vowels')\n",
        "result = {key: first_input_vowels.get(key, 0) + second_input_vowels.get(key, 0)\n",
        "          for key in set(first_input_vowels) | set(second_input_vowels)}\n",
        "print(result)\n"
      ],
      "execution_count": 1,
      "outputs": [
        {
          "output_type": "stream",
          "text": [
            "Enter 1st sentences : hi prasanna kumar\n",
            "Enter 2nd sentences : hi kumar\n",
            "   \n",
            "First sentence split into string\n",
            "['hi', 'prasanna', 'kumar']\n",
            "   \n",
            "Second sentence split into string\n",
            "['hi', 'kumar']\n",
            "   \n",
            "Common Elements in both lists:\n",
            "['kumar', 'hi']\n",
            "   \n",
            "First Sentence without punctuation\n",
            "hi prasanna kumar\n",
            "   \n",
            "Second Sentence without punctuation\n",
            "hi kumar\n",
            "   \n",
            "First Sentence vowels\n",
            "{'a': 4, 'e': 0, 'i': 1, 'o': 0, 'u': 1}\n",
            "   \n",
            "Second Sentence vowels\n",
            "{'a': 1, 'e': 0, 'i': 1, 'o': 0, 'u': 1}\n",
            "   \n",
            "Both Sentence vowels\n",
            "{'u': 2, 'a': 5, 'e': 0, 'i': 2, 'o': 0}\n"
          ],
          "name": "stdout"
        }
      ]
    },
    {
      "cell_type": "markdown",
      "metadata": {
        "id": "MJJrHAmVB09H"
      },
      "source": [
        ""
      ]
    },
    {
      "cell_type": "markdown",
      "metadata": {
        "id": "CmFoI4jDS9nx"
      },
      "source": [
        "# Question 3 \n",
        "\n",
        "(15 points). The formula that describes the volume V of a sphere with radius r is the following:\n",
        "\n",
        "$ V=\\frac{4}{3}\\ast\\ \\pi\\ast\\ r^3 $\n",
        "\n",
        "Write a program to calculate the value of V when r is in the range of 1–10. Output the result in the following format:\n",
        "\n",
        "\tr\tV\n",
        "\t1\t…\n",
        "\t2\t…\n",
        "\t3\t…\n"
      ]
    },
    {
      "cell_type": "code",
      "metadata": {
        "colab": {
          "base_uri": "https://localhost:8080/"
        },
        "id": "pEyqeioAT95b",
        "outputId": "2dcc606d-b8e9-4dfc-ca24-448849e66d9b"
      },
      "source": [
        "# Your code here\n",
        "import math \n",
        "def vol():\n",
        "  for i in range(1,12):\n",
        "    print(i,\" \",(4/3)*math.pi*pow(i,3))\n",
        "vol()\n"
      ],
      "execution_count": 5,
      "outputs": [
        {
          "output_type": "stream",
          "text": [
            "1   4.1887902047863905\n",
            "2   33.510321638291124\n",
            "3   113.09733552923254\n",
            "4   268.082573106329\n",
            "5   523.5987755982989\n",
            "6   904.7786842338603\n",
            "7   1436.7550402417319\n",
            "8   2144.660584850632\n",
            "9   3053.6280592892786\n",
            "10   4188.790204786391\n",
            "11   5575.279762570686\n"
          ],
          "name": "stdout"
        }
      ]
    },
    {
      "cell_type": "code",
      "metadata": {
        "id": "pMCr3l8tnu0j"
      },
      "source": [
        ""
      ],
      "execution_count": null,
      "outputs": []
    },
    {
      "cell_type": "markdown",
      "metadata": {
        "id": "eckUYb_COjO0"
      },
      "source": [
        ""
      ]
    },
    {
      "cell_type": "markdown",
      "metadata": {
        "id": "z3tBE7E-Xn5X"
      },
      "source": [
        "# Question 4\n",
        "\n",
        "(40 points). In the field of Data Science, data is often formatted as a comma-delimited (CSV) file, where each line in a file corresponds to a field's value. Refer to Chapter 9 (p. 106) for more information on comma-delimited files. To answer this question, you will need to download the file [Assignment1_denton_housing.csv](https://github.com/unt-iialab/INFO5731_Spring2020/blob/master/Assignments/Assignment1_denton_housing.csv) included with this assignment. The [file Assignment1_denton_housing.csv](https://github.com/unt-iialab/INFO5731_Spring2020/blob/master/Assignments/Assignment1_denton_housing.csv) contains statistics about housing in the city of Denton from 2008 to 2014. Write a program to implement the following questions.\n",
        "\n",
        "(1) (10 pts) Calculate the difference in the number of Occupied Housing Units from year to year and print it. The difference must be calculated for the consecutive years such as 2008-2009, 2009-2010 etc. Finally, print the values in the ascending order.\n",
        "\n",
        "(2) (10 pts) For all the years, calculate the percentage of housing units which are vacant an occupied. Print the results in the following format:\n",
        "\n",
        "Year Vacant Housing Units Occupied Housing Units\n",
        "\n",
        "    2008  30%   70%                          \n",
        "\t2009 ----- -----\n",
        "\t2010 ----- -----\n",
        "    2011 ----- -----\n",
        "\t2012 ----- -----\n",
        "    2013 ----- -----\n",
        "\t2014 ----- -----\n",
        "  \n",
        "  \n",
        "\n",
        "(3) (10 pts) Calculate and print the valued and years in which the highest number of housing units were vacant and occupied. Print the results in the following format:  \n",
        "\n",
        "                              Year\tValue\n",
        "\tVacant Housing Units\t  -----   -----\n",
        "\tOccupied Housing Units\t-----   -----\n",
        "\n",
        "(4) (10 pts) Calculate the harmonic mean of the total housing units and print it out. You can find the information about harmonic mean here: https://ncalculators.com/statistics/harmonic-mean-calculator.htm"
      ]
    },
    {
      "cell_type": "markdown",
      "metadata": {
        "id": "5TaBfg1UOhPy"
      },
      "source": [
        ""
      ]
    },
    {
      "cell_type": "code",
      "metadata": {
        "id": "lqGYuHBhcsRH"
      },
      "source": [
        "# Your code here\n",
        "\n",
        "import pandas as pd\n",
        "\n",
        "url = 'https://github.com/unt-iialab/INFO5731_FALL2020/blob/master/Assignments/Assignment1_denton_housing.csv?raw=True'\n",
        "df = pd.read_csv(url, index_col=0)"
      ],
      "execution_count": 2,
      "outputs": []
    },
    {
      "cell_type": "code",
      "metadata": {
        "colab": {
          "base_uri": "https://localhost:8080/",
          "height": 1000
        },
        "id": "Y4MpOUatPE1x",
        "outputId": "9efcf53a-8ce8-40dd-81d7-ec058df4857b"
      },
      "source": [
        "df"
      ],
      "execution_count": 3,
      "outputs": [
        {
          "output_type": "execute_result",
          "data": {
            "text/html": [
              "<div>\n",
              "<style scoped>\n",
              "    .dataframe tbody tr th:only-of-type {\n",
              "        vertical-align: middle;\n",
              "    }\n",
              "\n",
              "    .dataframe tbody tr th {\n",
              "        vertical-align: top;\n",
              "    }\n",
              "\n",
              "    .dataframe thead th {\n",
              "        text-align: right;\n",
              "    }\n",
              "</style>\n",
              "<table border=\"1\" class=\"dataframe\">\n",
              "  <thead>\n",
              "    <tr style=\"text-align: right;\">\n",
              "      <th></th>\n",
              "      <th>title_field</th>\n",
              "      <th>value</th>\n",
              "    </tr>\n",
              "    <tr>\n",
              "      <th>year</th>\n",
              "      <th></th>\n",
              "      <th></th>\n",
              "    </tr>\n",
              "  </thead>\n",
              "  <tbody>\n",
              "    <tr>\n",
              "      <th>2014</th>\n",
              "      <td>Total Housing Units</td>\n",
              "      <td>49109</td>\n",
              "    </tr>\n",
              "    <tr>\n",
              "      <th>2014</th>\n",
              "      <td>Vacant Housing Units</td>\n",
              "      <td>2814</td>\n",
              "    </tr>\n",
              "    <tr>\n",
              "      <th>2014</th>\n",
              "      <td>Occupied Housing Units</td>\n",
              "      <td>46295</td>\n",
              "    </tr>\n",
              "    <tr>\n",
              "      <th>2013</th>\n",
              "      <td>Total Housing Units</td>\n",
              "      <td>47888</td>\n",
              "    </tr>\n",
              "    <tr>\n",
              "      <th>2013</th>\n",
              "      <td>Vacant Housing Units</td>\n",
              "      <td>4215</td>\n",
              "    </tr>\n",
              "    <tr>\n",
              "      <th>2013</th>\n",
              "      <td>Occupied Housing Units</td>\n",
              "      <td>43673</td>\n",
              "    </tr>\n",
              "    <tr>\n",
              "      <th>2012</th>\n",
              "      <td>Total Housing Units</td>\n",
              "      <td>45121</td>\n",
              "    </tr>\n",
              "    <tr>\n",
              "      <th>2012</th>\n",
              "      <td>Vacant Housing Units</td>\n",
              "      <td>3013</td>\n",
              "    </tr>\n",
              "    <tr>\n",
              "      <th>2012</th>\n",
              "      <td>Occupied Housing Units</td>\n",
              "      <td>42108</td>\n",
              "    </tr>\n",
              "    <tr>\n",
              "      <th>2011</th>\n",
              "      <td>Total Housing Units</td>\n",
              "      <td>44917</td>\n",
              "    </tr>\n",
              "    <tr>\n",
              "      <th>2011</th>\n",
              "      <td>Vacant Housing Units</td>\n",
              "      <td>4213</td>\n",
              "    </tr>\n",
              "    <tr>\n",
              "      <th>2011</th>\n",
              "      <td>Occupied Housing Units</td>\n",
              "      <td>40704</td>\n",
              "    </tr>\n",
              "    <tr>\n",
              "      <th>2010</th>\n",
              "      <td>Total Housing Units</td>\n",
              "      <td>44642</td>\n",
              "    </tr>\n",
              "    <tr>\n",
              "      <th>2010</th>\n",
              "      <td>Vacant Housing Units</td>\n",
              "      <td>3635</td>\n",
              "    </tr>\n",
              "    <tr>\n",
              "      <th>2010</th>\n",
              "      <td>Occupied Housing Units</td>\n",
              "      <td>41007</td>\n",
              "    </tr>\n",
              "    <tr>\n",
              "      <th>2009</th>\n",
              "      <td>Total Housing Units</td>\n",
              "      <td>39499</td>\n",
              "    </tr>\n",
              "    <tr>\n",
              "      <th>2009</th>\n",
              "      <td>Vacant Housing Units</td>\n",
              "      <td>3583</td>\n",
              "    </tr>\n",
              "    <tr>\n",
              "      <th>2009</th>\n",
              "      <td>Occupied Housing Units</td>\n",
              "      <td>35916</td>\n",
              "    </tr>\n",
              "    <tr>\n",
              "      <th>2008</th>\n",
              "      <td>Total Housing Units</td>\n",
              "      <td>41194</td>\n",
              "    </tr>\n",
              "    <tr>\n",
              "      <th>2008</th>\n",
              "      <td>Vacant Housing Units</td>\n",
              "      <td>4483</td>\n",
              "    </tr>\n",
              "    <tr>\n",
              "      <th>2008</th>\n",
              "      <td>Occupied Housing Units</td>\n",
              "      <td>36711</td>\n",
              "    </tr>\n",
              "    <tr>\n",
              "      <th>2014</th>\n",
              "      <td>Owner Occupied</td>\n",
              "      <td>21427</td>\n",
              "    </tr>\n",
              "    <tr>\n",
              "      <th>2014</th>\n",
              "      <td>Renter Occupied</td>\n",
              "      <td>24868</td>\n",
              "    </tr>\n",
              "    <tr>\n",
              "      <th>2013</th>\n",
              "      <td>Owner Occupied</td>\n",
              "      <td>20845</td>\n",
              "    </tr>\n",
              "    <tr>\n",
              "      <th>2013</th>\n",
              "      <td>Renter Occupied</td>\n",
              "      <td>22828</td>\n",
              "    </tr>\n",
              "    <tr>\n",
              "      <th>2012</th>\n",
              "      <td>Owner Occupied</td>\n",
              "      <td>20068</td>\n",
              "    </tr>\n",
              "    <tr>\n",
              "      <th>2012</th>\n",
              "      <td>Renter Occupied</td>\n",
              "      <td>22040</td>\n",
              "    </tr>\n",
              "    <tr>\n",
              "      <th>2011</th>\n",
              "      <td>Owner Occupied</td>\n",
              "      <td>18478</td>\n",
              "    </tr>\n",
              "    <tr>\n",
              "      <th>2011</th>\n",
              "      <td>Renter Occupied</td>\n",
              "      <td>22226</td>\n",
              "    </tr>\n",
              "    <tr>\n",
              "      <th>2010</th>\n",
              "      <td>Owner Occupied</td>\n",
              "      <td>18867</td>\n",
              "    </tr>\n",
              "    <tr>\n",
              "      <th>2010</th>\n",
              "      <td>Renter Occupied</td>\n",
              "      <td>22140</td>\n",
              "    </tr>\n",
              "    <tr>\n",
              "      <th>2009</th>\n",
              "      <td>Owner Occupied</td>\n",
              "      <td>18057</td>\n",
              "    </tr>\n",
              "    <tr>\n",
              "      <th>2009</th>\n",
              "      <td>Renter Occupied</td>\n",
              "      <td>17859</td>\n",
              "    </tr>\n",
              "    <tr>\n",
              "      <th>2008</th>\n",
              "      <td>Owner Occupied</td>\n",
              "      <td>17340</td>\n",
              "    </tr>\n",
              "    <tr>\n",
              "      <th>2008</th>\n",
              "      <td>Renter Occupied</td>\n",
              "      <td>19371</td>\n",
              "    </tr>\n",
              "    <tr>\n",
              "      <th>2014</th>\n",
              "      <td>Median Gross Rent</td>\n",
              "      <td>905</td>\n",
              "    </tr>\n",
              "    <tr>\n",
              "      <th>2013</th>\n",
              "      <td>Median Gross Rent</td>\n",
              "      <td>887</td>\n",
              "    </tr>\n",
              "    <tr>\n",
              "      <th>2012</th>\n",
              "      <td>Median Gross Rent</td>\n",
              "      <td>842</td>\n",
              "    </tr>\n",
              "    <tr>\n",
              "      <th>2011</th>\n",
              "      <td>Median Gross Rent</td>\n",
              "      <td>821</td>\n",
              "    </tr>\n",
              "    <tr>\n",
              "      <th>2010</th>\n",
              "      <td>Median Gross Rent</td>\n",
              "      <td>780</td>\n",
              "    </tr>\n",
              "    <tr>\n",
              "      <th>2009</th>\n",
              "      <td>Median Gross Rent</td>\n",
              "      <td>769</td>\n",
              "    </tr>\n",
              "    <tr>\n",
              "      <th>2008</th>\n",
              "      <td>Median Gross Rent</td>\n",
              "      <td>768</td>\n",
              "    </tr>\n",
              "  </tbody>\n",
              "</table>\n",
              "</div>"
            ],
            "text/plain": [
              "                 title_field  value\n",
              "year                               \n",
              "2014     Total Housing Units  49109\n",
              "2014    Vacant Housing Units   2814\n",
              "2014  Occupied Housing Units  46295\n",
              "2013     Total Housing Units  47888\n",
              "2013    Vacant Housing Units   4215\n",
              "2013  Occupied Housing Units  43673\n",
              "2012     Total Housing Units  45121\n",
              "2012    Vacant Housing Units   3013\n",
              "2012  Occupied Housing Units  42108\n",
              "2011     Total Housing Units  44917\n",
              "2011    Vacant Housing Units   4213\n",
              "2011  Occupied Housing Units  40704\n",
              "2010     Total Housing Units  44642\n",
              "2010    Vacant Housing Units   3635\n",
              "2010  Occupied Housing Units  41007\n",
              "2009     Total Housing Units  39499\n",
              "2009    Vacant Housing Units   3583\n",
              "2009  Occupied Housing Units  35916\n",
              "2008     Total Housing Units  41194\n",
              "2008    Vacant Housing Units   4483\n",
              "2008  Occupied Housing Units  36711\n",
              "2014          Owner Occupied  21427\n",
              "2014         Renter Occupied  24868\n",
              "2013          Owner Occupied  20845\n",
              "2013         Renter Occupied  22828\n",
              "2012          Owner Occupied  20068\n",
              "2012         Renter Occupied  22040\n",
              "2011          Owner Occupied  18478\n",
              "2011         Renter Occupied  22226\n",
              "2010          Owner Occupied  18867\n",
              "2010         Renter Occupied  22140\n",
              "2009          Owner Occupied  18057\n",
              "2009         Renter Occupied  17859\n",
              "2008          Owner Occupied  17340\n",
              "2008         Renter Occupied  19371\n",
              "2014       Median Gross Rent    905\n",
              "2013       Median Gross Rent    887\n",
              "2012       Median Gross Rent    842\n",
              "2011       Median Gross Rent    821\n",
              "2010       Median Gross Rent    780\n",
              "2009       Median Gross Rent    769\n",
              "2008       Median Gross Rent    768"
            ]
          },
          "metadata": {
            "tags": []
          },
          "execution_count": 3
        }
      ]
    },
    {
      "cell_type": "code",
      "metadata": {
        "id": "WTZEVDvVPQ-h"
      },
      "source": [
        "#question 1\r\n",
        "pd.options.mode.chained_assignment = None \r\n",
        "occu_df = df[df['title_field']=='Occupied Housing Units']\r\n",
        "occu_df = occu_df.reset_index(drop=False)\r\n",
        "occu_df['dif'] = occu_df['value'].diff()\r\n",
        "occu_df['combine'] = occu_df.year.astype(str) + '-' +  occu_df.year.astype(str).shift(-1)\r\n",
        "occu_df_range = occu_df[['dif','combine']] \r\n",
        "occu_df_range['combine'] =  occu_df_range['combine'].shift(1)\r\n",
        "occu_df_range = occu_df_range.dropna()\r\n",
        "occu_df_range = occu_df_range.reindex(index=occu_df_range.index[::-1])\r\n",
        "occu_df_range = occu_df_range.reset_index(drop=True)\r\n",
        "occu_df_range = occu_df_range[['combine','dif']]\r\n",
        "occu_df_range.columns = ['year','Diff in Occupied Housing Units ']"
      ],
      "execution_count": 5,
      "outputs": []
    },
    {
      "cell_type": "code",
      "metadata": {
        "colab": {
          "base_uri": "https://localhost:8080/",
          "height": 235
        },
        "id": "MxXRgf0kPbsn",
        "outputId": "6c1e7cdd-8594-4ec9-8429-bea95341c9a6"
      },
      "source": [
        "occu_df_range"
      ],
      "execution_count": 6,
      "outputs": [
        {
          "output_type": "execute_result",
          "data": {
            "text/html": [
              "<div>\n",
              "<style scoped>\n",
              "    .dataframe tbody tr th:only-of-type {\n",
              "        vertical-align: middle;\n",
              "    }\n",
              "\n",
              "    .dataframe tbody tr th {\n",
              "        vertical-align: top;\n",
              "    }\n",
              "\n",
              "    .dataframe thead th {\n",
              "        text-align: right;\n",
              "    }\n",
              "</style>\n",
              "<table border=\"1\" class=\"dataframe\">\n",
              "  <thead>\n",
              "    <tr style=\"text-align: right;\">\n",
              "      <th></th>\n",
              "      <th>year</th>\n",
              "      <th>Diff in Occupied Housing Units</th>\n",
              "    </tr>\n",
              "  </thead>\n",
              "  <tbody>\n",
              "    <tr>\n",
              "      <th>0</th>\n",
              "      <td>2009-2008</td>\n",
              "      <td>795.0</td>\n",
              "    </tr>\n",
              "    <tr>\n",
              "      <th>1</th>\n",
              "      <td>2010-2009</td>\n",
              "      <td>-5091.0</td>\n",
              "    </tr>\n",
              "    <tr>\n",
              "      <th>2</th>\n",
              "      <td>2011-2010</td>\n",
              "      <td>303.0</td>\n",
              "    </tr>\n",
              "    <tr>\n",
              "      <th>3</th>\n",
              "      <td>2012-2011</td>\n",
              "      <td>-1404.0</td>\n",
              "    </tr>\n",
              "    <tr>\n",
              "      <th>4</th>\n",
              "      <td>2013-2012</td>\n",
              "      <td>-1565.0</td>\n",
              "    </tr>\n",
              "    <tr>\n",
              "      <th>5</th>\n",
              "      <td>2014-2013</td>\n",
              "      <td>-2622.0</td>\n",
              "    </tr>\n",
              "  </tbody>\n",
              "</table>\n",
              "</div>"
            ],
            "text/plain": [
              "        year  Diff in Occupied Housing Units \n",
              "0  2009-2008                            795.0\n",
              "1  2010-2009                          -5091.0\n",
              "2  2011-2010                            303.0\n",
              "3  2012-2011                          -1404.0\n",
              "4  2013-2012                          -1565.0\n",
              "5  2014-2013                          -2622.0"
            ]
          },
          "metadata": {
            "tags": []
          },
          "execution_count": 6
        }
      ]
    },
    {
      "cell_type": "code",
      "metadata": {
        "id": "e7um-RHnPfYl"
      },
      "source": [
        "#question2\r\n",
        "year_vac_df = df[(df['title_field']=='Occupied Housing Units')|(df['title_field']=='Vacant Housing Units')|(df['title_field']=='Total Housing Units')]\r\n",
        "year_vac_df = year_vac_df.reset_index(drop=False)\r\n",
        "new_pivot = year_vac_df[year_vac_df['title_field'] != 'Total Housing Units']\r\n",
        "year_vac_final = (new_pivot.pivot_table(index='year',columns='title_field',values='value')).reset_index()\r\n",
        "only_total_df = df[df['title_field']=='Total Housing Units']\r\n",
        "only_total_df = only_total_df.reset_index(drop=False)\r\n",
        "only_total_df = only_total_df[['year','value']]\r\n",
        "only_total_df.columns = ['year','Total Housing Units']\r\n",
        "year_vac_final = pd.merge(year_vac_final,only_total_df,on='year')\r\n",
        "year_vac_final['percentage_occupied'] = (year_vac_final['Occupied Housing Units']/year_vac_final['Total Housing Units'])*100\r\n",
        "year_vac_final['percentage_vacant'] = (year_vac_final['Vacant Housing Units']/year_vac_final['Total Housing Units'])*100\r\n",
        "year_vac_final = year_vac_final[['year','percentage_occupied','percentage_vacant']]"
      ],
      "execution_count": 8,
      "outputs": []
    },
    {
      "cell_type": "code",
      "metadata": {
        "colab": {
          "base_uri": "https://localhost:8080/",
          "height": 266
        },
        "id": "qwjVTX3KPgjb",
        "outputId": "ea7d256f-51dd-45d8-a29f-e17737965c6a"
      },
      "source": [
        "year_vac_final"
      ],
      "execution_count": 9,
      "outputs": [
        {
          "output_type": "execute_result",
          "data": {
            "text/html": [
              "<div>\n",
              "<style scoped>\n",
              "    .dataframe tbody tr th:only-of-type {\n",
              "        vertical-align: middle;\n",
              "    }\n",
              "\n",
              "    .dataframe tbody tr th {\n",
              "        vertical-align: top;\n",
              "    }\n",
              "\n",
              "    .dataframe thead th {\n",
              "        text-align: right;\n",
              "    }\n",
              "</style>\n",
              "<table border=\"1\" class=\"dataframe\">\n",
              "  <thead>\n",
              "    <tr style=\"text-align: right;\">\n",
              "      <th></th>\n",
              "      <th>year</th>\n",
              "      <th>percentage_occupied</th>\n",
              "      <th>percentage_vacant</th>\n",
              "    </tr>\n",
              "  </thead>\n",
              "  <tbody>\n",
              "    <tr>\n",
              "      <th>0</th>\n",
              "      <td>2008</td>\n",
              "      <td>89.117347</td>\n",
              "      <td>10.882653</td>\n",
              "    </tr>\n",
              "    <tr>\n",
              "      <th>1</th>\n",
              "      <td>2009</td>\n",
              "      <td>90.928884</td>\n",
              "      <td>9.071116</td>\n",
              "    </tr>\n",
              "    <tr>\n",
              "      <th>2</th>\n",
              "      <td>2010</td>\n",
              "      <td>91.857444</td>\n",
              "      <td>8.142556</td>\n",
              "    </tr>\n",
              "    <tr>\n",
              "      <th>3</th>\n",
              "      <td>2011</td>\n",
              "      <td>90.620478</td>\n",
              "      <td>9.379522</td>\n",
              "    </tr>\n",
              "    <tr>\n",
              "      <th>4</th>\n",
              "      <td>2012</td>\n",
              "      <td>93.322400</td>\n",
              "      <td>6.677600</td>\n",
              "    </tr>\n",
              "    <tr>\n",
              "      <th>5</th>\n",
              "      <td>2013</td>\n",
              "      <td>91.198212</td>\n",
              "      <td>8.801788</td>\n",
              "    </tr>\n",
              "    <tr>\n",
              "      <th>6</th>\n",
              "      <td>2014</td>\n",
              "      <td>94.269889</td>\n",
              "      <td>5.730111</td>\n",
              "    </tr>\n",
              "  </tbody>\n",
              "</table>\n",
              "</div>"
            ],
            "text/plain": [
              "   year  percentage_occupied  percentage_vacant\n",
              "0  2008            89.117347          10.882653\n",
              "1  2009            90.928884           9.071116\n",
              "2  2010            91.857444           8.142556\n",
              "3  2011            90.620478           9.379522\n",
              "4  2012            93.322400           6.677600\n",
              "5  2013            91.198212           8.801788\n",
              "6  2014            94.269889           5.730111"
            ]
          },
          "metadata": {
            "tags": []
          },
          "execution_count": 9
        }
      ]
    },
    {
      "cell_type": "code",
      "metadata": {
        "id": "gBmuiEbMPp64"
      },
      "source": [
        "#question3\r\n",
        "occu_vac_df = df[(df['title_field']=='Occupied Housing Units')|(df['title_field']=='Vacant Housing Units')]\r\n",
        "occu_vac_df = occu_vac_df.reset_index(drop=False)\r\n",
        "occu_vac_df = occu_vac_df.groupby('title_field').agg({ 'value':'max'}).reset_index()"
      ],
      "execution_count": 13,
      "outputs": []
    },
    {
      "cell_type": "code",
      "metadata": {
        "colab": {
          "base_uri": "https://localhost:8080/",
          "height": 111
        },
        "id": "2RLYqwlHPs79",
        "outputId": "aa863650-5df6-4a4b-b482-a11c7c421a19"
      },
      "source": [
        "occu_vac_df"
      ],
      "execution_count": 14,
      "outputs": [
        {
          "output_type": "execute_result",
          "data": {
            "text/html": [
              "<div>\n",
              "<style scoped>\n",
              "    .dataframe tbody tr th:only-of-type {\n",
              "        vertical-align: middle;\n",
              "    }\n",
              "\n",
              "    .dataframe tbody tr th {\n",
              "        vertical-align: top;\n",
              "    }\n",
              "\n",
              "    .dataframe thead th {\n",
              "        text-align: right;\n",
              "    }\n",
              "</style>\n",
              "<table border=\"1\" class=\"dataframe\">\n",
              "  <thead>\n",
              "    <tr style=\"text-align: right;\">\n",
              "      <th></th>\n",
              "      <th>title_field</th>\n",
              "      <th>value</th>\n",
              "    </tr>\n",
              "  </thead>\n",
              "  <tbody>\n",
              "    <tr>\n",
              "      <th>0</th>\n",
              "      <td>Occupied Housing Units</td>\n",
              "      <td>46295</td>\n",
              "    </tr>\n",
              "    <tr>\n",
              "      <th>1</th>\n",
              "      <td>Vacant Housing Units</td>\n",
              "      <td>4483</td>\n",
              "    </tr>\n",
              "  </tbody>\n",
              "</table>\n",
              "</div>"
            ],
            "text/plain": [
              "              title_field  value\n",
              "0  Occupied Housing Units  46295\n",
              "1    Vacant Housing Units   4483"
            ]
          },
          "metadata": {
            "tags": []
          },
          "execution_count": 14
        }
      ]
    },
    {
      "cell_type": "code",
      "metadata": {
        "colab": {
          "base_uri": "https://localhost:8080/"
        },
        "id": "rkp6fDHrPw2z",
        "outputId": "6041a57e-49d9-409b-eef4-42e99a70f9a7"
      },
      "source": [
        "#question4\r\n",
        "import statistics \r\n",
        "harmonic_df = df[df['title_field']=='Total Housing Units']\r\n",
        "harmonic_df = harmonic_df.reset_index(drop=False)\r\n",
        "data = harmonic_df['value'].to_list()\r\n",
        "print(\"Harmonic Mean is % s \" % (statistics.harmonic_mean(data))) "
      ],
      "execution_count": 11,
      "outputs": [
        {
          "output_type": "stream",
          "text": [
            "Harmonic Mean is 44398.28543969185 \n"
          ],
          "name": "stdout"
        }
      ]
    }
  ]
}